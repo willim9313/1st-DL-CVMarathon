{
 "cells": [
  {
   "cell_type": "markdown",
   "metadata": {},
   "source": [
    "## 練習時間\n",
    "相信大家對回歸問題及分類問題都有初步的了解。今天的作業希望大家搜尋有關 multi-label 的案例問題。下圖是電影 \"奇異博士\" 的分類。可以看到同時有 \"Action\", \"Adventure\", \"Fantasy\" 的類別存在，代表這是個多標籤的問題。 "
   ]
  },
  {
   "cell_type": "markdown",
   "metadata": {},
   "source": [
    "![image](https://cdn-images-1.medium.com/max/1000/1*r0gYXMSQf5VhdMyl2bRDyg.png)"
   ]
  },
  {
   "cell_type": "markdown",
   "metadata": {},
   "source": [
    "## 請搜尋目標為多標籤問題 (Multi-label) 的機器學習案例，了解其資料來源、目標以及評估指標為何\n",
    "## Hint: 服飾"
   ]
  },
  {
   "cell_type": "markdown",
   "metadata": {},
   "source": [
    "Women Health Care的資料來源(US的非營利組織)\n",
    "18305筆資料，1379種輸入變數，14個目標變數\n",
    "連續三年分不同的女性14種可能的醫療照護需求\n",
    "WHC想要藉由透過詢問超過1700個問題(關乎他們的人口統計、懷孕、家庭規劃、健保等)來區分女性這14種label\n",
    "\n",
    "採用Multivariate random forest (randomForestSRC) 來建模，目標是做到透過這些問題來預測這些女性有哪方面的醫療照護需求\n",
    "評估指標採用accuracy_rfsrc，R語言中的模型的預測準確度，但並沒有著墨太多。\n",
    "\n",
    "source:\n",
    "https://www.kaggle.com/ravikrishnareddy/multi-label-classification/execution#multilabel-classification"
   ]
  }
 ],
 "metadata": {
  "kernelspec": {
   "display_name": "Python 3",
   "language": "python",
   "name": "python3"
  },
  "language_info": {
   "codemirror_mode": {
    "name": "ipython",
    "version": 3
   },
   "file_extension": ".py",
   "mimetype": "text/x-python",
   "name": "python",
   "nbconvert_exporter": "python",
   "pygments_lexer": "ipython3",
   "version": "3.7.6"
  }
 },
 "nbformat": 4,
 "nbformat_minor": 2
}
