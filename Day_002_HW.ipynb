{
 "cells": [
  {
   "cell_type": "markdown",
   "metadata": {},
   "source": [
    "## [作業目標]\n",
    "了解機器學習適合應用的領域與範疇。"
   ]
  },
  {
   "cell_type": "markdown",
   "metadata": {},
   "source": [
    "## [作業重點]\n",
    "透過瞭解機器學習的運作方式，找出非常適用機器學習應用的領域及其原因"
   ]
  },
  {
   "cell_type": "markdown",
   "metadata": {},
   "source": [
    "## 作業\n",
    "請找出一個你認為機器學習可以發光發熱的領域並闡述原因? "
   ]
  },
  {
   "cell_type": "markdown",
   "metadata": {},
   "source": [
    "任何需要栽種出好品種的作物都可以透過機器學習的方式來發展。舉例來說，咖啡豆的栽種現在雖然已經普及了，但是在不同的地方可能會受到濕度、溫度等地理環境條件外在因素做為影響，再來則是該種咖啡豆的種植方式、豆子的原生種類、處理方式(特定處理方式與時間長短)，相信全世界累積下來的參數如果有做到良好的記錄是有機會提供咖啡栽種者快速找到合適的栽種方式，譬如說找出耐旱、易生存的品種或是非常甜美但是很需要特定條件的結果，透過機器學習的方式有機會找出固定條件下最適合栽種的種類以及方法，讓咖啡種植者不需要透過盲目的實驗就有機會做好。\n",
    "\n",
    "或許上述的階段數據收集並不容易，那也可以把場景轉換至咖啡豆的烘焙，有定期定時蒐集每次烘焙的曲線資料，累積下來的數據也可以藉由機器學習告知使用者大概在甚麼樣的情況下拉高溫度，並在甚麼樣的溫度下下豆不再烘焙可以做到黃金曲線，穩定每次交出的咖啡豆品質(有點像是製造業的參數最佳化概念)。"
   ]
  }
 ],
 "metadata": {
  "kernelspec": {
   "display_name": "Python 3",
   "language": "python",
   "name": "python3"
  },
  "language_info": {
   "codemirror_mode": {
    "name": "ipython",
    "version": 3
   },
   "file_extension": ".py",
   "mimetype": "text/x-python",
   "name": "python",
   "nbconvert_exporter": "python",
   "pygments_lexer": "ipython3",
   "version": "3.7.6"
  }
 },
 "nbformat": 4,
 "nbformat_minor": 2
}
